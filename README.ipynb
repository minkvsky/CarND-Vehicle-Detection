{
 "cells": [
  {
   "cell_type": "markdown",
   "metadata": {},
   "source": [
    "# Vehicle Detection\n",
    "[![Udacity - Self-Driving Car NanoDegree](https://s3.amazonaws.com/udacity-sdc/github/shield-carnd.svg)](http://www.udacity.com/drive)\n",
    "\n",
    "---"
   ]
  },
  {
   "cell_type": "markdown",
   "metadata": {},
   "source": [
    "The goals / steps of this project are the following:\n",
    "\n",
    "* Perform a Histogram of Oriented Gradients (HOG) feature extraction on a labeled training set of images and train a classifier Linear SVM classifier\n",
    "* Optionally, you can also apply a color transform and append binned color features, as well as histograms of color, to your HOG feature vector.\n",
    "* Note: for those first two steps don't forget to normalize your features and randomize a selection for training and testing.\n",
    "* Implement a sliding-window technique and use your trained classifier to search for vehicles in images.\n",
    "* Run your pipeline on a video stream (start with the test_video.mp4 and later implement on full project_video.mp4) and create a heat map of recurring detections frame by frame to reject outliers and follow detected vehicles.\n",
    "* Estimate a bounding box for vehicles detected."
   ]
  },
  {
   "cell_type": "markdown",
   "metadata": {},
   "source": [
    "## Data"
   ]
  },
  {
   "cell_type": "markdown",
   "metadata": {},
   "source": [
    "Here are links to the labeled data for [vehicle](https://s3.amazonaws.com/udacity-sdc/Vehicle_Tracking/vehicles.zip) and [non-vehicle](https://s3.amazonaws.com/udacity-sdc/Vehicle_Tracking/non-vehicles.zip) examples to train your classifier.  These example images come from a combination of the [GTI vehicle image database](http://www.gti.ssr.upm.es/data/Vehicle_database.html), the [KITTI vision benchmark suite](http://www.cvlibs.net/datasets/kitti/), and examples extracted from the project video itself.  \n",
    "\n",
    "Some example images for testing your pipeline on single frames are located in the `test_images` folder.  To help the reviewer examine your work, please save examples of the output from each stage of your pipeline in the folder called `ouput_images`, and include them in your writeup for the project by describing what each image shows.    The video called `project_video.mp4` is the video your pipeline should work well on.  "
   ]
  },
  {
   "cell_type": "markdown",
   "metadata": {},
   "source": [
    "## Image References\n",
    "[//]: # (Image References)\n",
    "[image1]: ./output_images/HOG.jpg\n",
    "[image2]: ./output_images/test1.jpg\n",
    "[image3]: ./output_images/test2.jpg\n",
    "[image4]: ./output_images/test3.jpg\n",
    "[image5]: ./output_images/test4.jpg\n",
    "[image6]: ./output_images/test5.jpg\n",
    "[image7]: ./output_images/test6.jpg\n",
    "[video1]: ./project_video.mp4\n",
    "\n",
    "---"
   ]
  },
  {
   "cell_type": "markdown",
   "metadata": {},
   "source": [
    "## main file"
   ]
  },
  {
   "cell_type": "markdown",
   "metadata": {},
   "source": [
    "- `pipeline.py` \n",
    "    - to make output video\n",
    "- `train_model.py`\n",
    "    - to train svm model for car\n",
    "- `utils.py`\n",
    "    - functions for training and vehicle detection\n",
    "- `camera.py`\n",
    "    - contain two class: camera and img_camera\n",
    "- `image_process.py`\n",
    "    - contain some function for image processing\n",
    "- `line.py`\n",
    "    - contain one class: Line"
   ]
  },
  {
   "cell_type": "markdown",
   "metadata": {},
   "source": [
    "## how to get output video"
   ]
  },
  {
   "cell_type": "markdown",
   "metadata": {},
   "source": [
    "steps to use:\n",
    "- `python train_model.py`\n",
    "- `python pipeline.py`"
   ]
  },
  {
   "cell_type": "markdown",
   "metadata": {},
   "source": [
    "## Histogram of Oriented Gradients (HOG)"
   ]
  },
  {
   "cell_type": "markdown",
   "metadata": {},
   "source": [
    "#### 1. Explain how (and identify where in your code) you extracted HOG features from the training images."
   ]
  },
  {
   "cell_type": "markdown",
   "metadata": {},
   "source": [
    "- `get_hog_features`: the code for extracted HOG features from images\n",
    "- steps to extracted HOG features\n",
    "    - convert image from RGB to HSV\n",
    "    - Compute individual channel HOG features for the entire image\n",
    "    - combine 3 channel HOG features\n",
    "- parameters used:\n",
    "```\n",
    "orient = 10  # HOG orientations\n",
    "pix_per_cell = 8 # HOG pixels per cell\n",
    "cell_per_block = 2 # HOG cells per block\n",
    "```"
   ]
  },
  {
   "cell_type": "markdown",
   "metadata": {},
   "source": [
    "#### 2. Explain how you settled on your final choice of HOG parameters."
   ]
  },
  {
   "cell_type": "markdown",
   "metadata": {},
   "source": [
    "I tried various combinations of parameters.\n",
    "- In order to select appropriate color space, I tried HSV, LUV, HLS, YUV, YCrCb then selected HSV by effect of detection on test images. The code is in `P5_tuning_param.ipynb`.\n",
    "- after trial, changes of cell_per_block and orient will not effect result of detection apparently.\n",
    "- select pix_per_cell 8 because the train image has (64,64) shape"
   ]
  },
  {
   "cell_type": "markdown",
   "metadata": {},
   "source": [
    "here is an example:\n",
    "\n",
    "![alt text][image1]"
   ]
  },
  {
   "cell_type": "markdown",
   "metadata": {},
   "source": [
    "#### 3. Describe how (and identify where in your code) you trained a classifier using your selected HOG features (and color features if you used them)."
   ]
  },
  {
   "cell_type": "markdown",
   "metadata": {},
   "source": [
    "the code to train the classifier is `train_svc` in `tain_model.py`.\n",
    "\n",
    "steps to train the classifier:\n",
    "- data preparing\n",
    "    - extract features using `bin_spatial`, `color_hist`, `get_hog_features` then combine them\n",
    "    - use StrandardScaler to normalize the features\n",
    "- random split the data into train and validation data.\n",
    "- using SVC to train with default parameters"
   ]
  },
  {
   "cell_type": "markdown",
   "metadata": {},
   "source": [
    "### Sliding Window Search"
   ]
  },
  {
   "cell_type": "markdown",
   "metadata": {},
   "source": [
    "#### 1. Describe how (and identify where in your code) you implemented a sliding window search.  How did you decide what scales to search and how much to overlap windows?"
   ]
  },
  {
   "cell_type": "markdown",
   "metadata": {},
   "source": [
    "the code to implement a sliding window search is `find_cars`. The parameters is as folowing:\n",
    "- pix_per_cell and cell_per_block is same as the parameters for HOG features\n",
    "- cells_per_step = 2, increasing of this parameter will lead to many cars missed"
   ]
  },
  {
   "cell_type": "markdown",
   "metadata": {},
   "source": [
    "the code to apply multiple-scale window search is `pipeline`:\n",
    "- use more small scale window to detect more remote car"
   ]
  },
  {
   "cell_type": "markdown",
   "metadata": {},
   "source": [
    "#### 2. Show some examples of test images to demonstrate how your pipeline is working.  What did you do to optimize the performance of your classifier?"
   ]
  },
  {
   "cell_type": "markdown",
   "metadata": {},
   "source": [
    "To optimize the performance of classifer, I used SVC modoel instead of linearSVC model.\n",
    "Ultimately I searched on multiple scales using HSV 3-channel HOG features plus spatially binned color and histograms of color in the feature vector, which provided a nice result.  Here are some example images:\n",
    "\n",
    "![alt text][image1]\n",
    "![alt text][image2]\n",
    "![alt text][image3]\n",
    "![alt text][image4]\n",
    "![alt text][image5]\n",
    "![alt text][image6]\n",
    "\n",
    "---"
   ]
  },
  {
   "cell_type": "markdown",
   "metadata": {},
   "source": [
    "### Video Implementation"
   ]
  },
  {
   "cell_type": "markdown",
   "metadata": {},
   "source": [
    "#### 1. Provide a link to your final video output.  Your pipeline should perform reasonably well on the entire project video (somewhat wobbly or unstable bounding boxes are ok as long as you are identifying the vehicles most of the time with minimal false positives.)\n",
    "Here's a [link to my video result](./project_video.mp4)\n",
    "\n",
    "\n",
    "#### 2. Describe how (and identify where in your code) you implemented some kind of filter for false positives and some method for combining overlapping bounding boxes.\n",
    "\n",
    "I recorded the positions of positive detections in each frame of the video.  \n",
    "I created a heatmap and then thresholded that map to identify vehicle positions.\n",
    "I then assumed each blob corresponded to a vehicle. \n",
    "I constructed bounding boxes to cover the area of each blob detected. \n",
    "The code is in `sanity_check_heat`.\n",
    "\n",
    "In fact I apply heatmap twice:\n",
    "- filter for false positives for only one frame\n",
    "- filter for false positives for continuous many frames\n",
    "\n",
    "\n",
    "\n",
    "---\n",
    "\n",
    "### Discussion\n",
    "\n",
    "#### 1. Briefly discuss any problems / issues you faced in your implementation of this project.  Where will your pipeline likely fail?  What could you do to make it more robust?\n",
    "\n"
   ]
  },
  {
   "cell_type": "markdown",
   "metadata": {},
   "source": [
    "- The main problem I faced in my implementation of this project is false positives of model predition.\n",
    "- So I have to adjust threshold for heatmap and design sanity check to filter false positve.\n",
    "- my pipeline seem too slow and maybe decrease time-consuming by decrease search windows applying lane-line detected."
   ]
  }
 ],
 "metadata": {
  "kernelspec": {
   "display_name": "aind-dog",
   "language": "python",
   "name": "aind-dog"
  },
  "language_info": {
   "codemirror_mode": {
    "name": "ipython",
    "version": 3
   },
   "file_extension": ".py",
   "mimetype": "text/x-python",
   "name": "python",
   "nbconvert_exporter": "python",
   "pygments_lexer": "ipython3",
   "version": "3.6.1"
  },
  "toc": {
   "nav_menu": {},
   "number_sections": true,
   "sideBar": true,
   "skip_h1_title": false,
   "toc_cell": false,
   "toc_position": {},
   "toc_section_display": "block",
   "toc_window_display": true
  }
 },
 "nbformat": 4,
 "nbformat_minor": 2
}
